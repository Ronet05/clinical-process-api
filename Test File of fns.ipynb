{
 "cells": [
  {
   "cell_type": "code",
   "execution_count": 1,
   "metadata": {},
   "outputs": [],
   "source": [
    "import pandas as pd\n",
    "import numpy as np\n",
    "import csv\n",
    "import json"
   ]
  },
  {
   "cell_type": "code",
   "execution_count": 20,
   "metadata": {},
   "outputs": [],
   "source": [
    "class eicu_parser:\n",
    "\n",
    "    def vitals_vars(self):\n",
    "        df = pd.read_csv(\"vitalPeriodic.csv\")\n",
    "        cols = df.columns.tolist()\n",
    "        cols = cols[3:]\n",
    "        del df\n",
    "        return cols\n",
    "\n",
    "\n",
    "    def labs(self):\n",
    "        df = pd.read_csv(\"lab.csv\")\n",
    "        cols = df['labname'].unique()\n",
    "        cols = cols.tolist()\n",
    "        return cols\n",
    "\n",
    "        \n",
    "\n",
    "    def nurse_e(self):\n",
    "        df = pd.read_csv(\"nurseCharting.csv\")\n",
    "        cols = df['nursingchartcelltypevallabel'].unique()\n",
    "        cols = cols.tolist()\n",
    "        return cols\n",
    "\n",
    "    #def chart_e(self, value):\n",
    "\n",
    "    def medication(self):\n",
    "        df = pd.read_csv(\"medication.csv\")\n",
    "        cols = df['drugname'].unique()\n",
    "        cols = cols.tolist()\n",
    "        return cols\n",
    "\n",
    "    #def patient_details(self, value):\n",
    "\n",
    "    def show_vars(self, list_of_values):\n",
    "        #list of values can be updated by just updating the number\n",
    "        #no need to hard code stuff\n",
    "        #dt will store all the cols mapped to one table, and convert to json for javascript compat\n",
    "        \n",
    "        dt = {}\n",
    "        for value in list_of_values:\n",
    "            if value == 1:\n",
    "                dt[\"vitals\"] = self.vitals_vars()\n",
    "            \n",
    "            elif value == 3:\n",
    "                dt[\"labs\"] = self.labs()\n",
    "            elif value == 4:\n",
    "                dt[\"nurseeve\"] = self.nurse_e()\n",
    "          \n",
    "            elif value == 6:\n",
    "                dt[\"med\"] = self.medication()\n",
    "           \n",
    "            \n",
    "        return json.dumps(dt)"
   ]
  },
  {
   "cell_type": "code",
   "execution_count": null,
   "metadata": {},
   "outputs": [],
   "source": []
  },
  {
   "cell_type": "code",
   "execution_count": 21,
   "metadata": {},
   "outputs": [
    {
     "name": "stdout",
     "output_type": "stream",
     "text": [
      "['paO2', 'Base Deficit', 'FiO2', 'pH', 'HCO3', 'paCO2', 'platelets x 1000', 'RBC', 'Hgb', 'Hct', 'MCV', 'bedside glucose', '-basos', '-eos', '-polys', '-lymphs', 'WBC x 1000', 'MCHC', 'MCH', '-monos', 'RDW', 'O2 Sat (%)', 'potassium', 'ESR', 'bicarbonate', 'creatinine', 'albumin', 'LDL', 'Total CO2', 'alkaline phos.', 'PT - INR', 'HDL', 'total bilirubin', 'Base Excess', 'PTT', 'AST (SGOT)', 'total cholesterol', 'anion gap', 'sodium', 'triglycerides', 'PT', 'ALT (SGPT)', 'total protein', 'calcium', 'BUN', 'chloride', 'glucose', 'troponin - I', 'magnesium', 'CRP', 'lactate', 'Respiratory Rate', 'Vancomycin - trough', 'phosphate', 'urinary specific gravity', '-bands', 'Ferritin', 'CPK', \"WBC's in cerebrospinal fluid\", 'BNP', 'Vancomycin - random', 'glucose - CSF', 'TIBC', 'Fe', 'Fe/TIBC Ratio', 'TSH', 'protein - CSF', 'Vitamin B12', 'ammonia', 'ionized calcium', 'ethanol', 'direct bilirubin', 'cortisol', \"WBC's in urine\", 'Lithium', 'salicylate', 'Acetaminophen', 'fibrinogen', 'Methemoglobin', 'Carboxyhemoglobin', 'free T4', 'LPM O2', 'lipase', 'amylase', 'urinary creatinine', 'Digoxin', 'LDH', 'prealbumin', 'CPK-MB', 'folate', 'uric acid', 'urinary sodium', \"WBC's in synovial fluid\", 'Tacrolimus-FK506', 'reticulocyte count', 'haptoglobin', 'Phenytoin', 'serum osmolality', 'urinary osmolality', 'Lidocaine', 'Tobramycin - random', 'myoglobin', 'protein C', 'Theophylline', 'MPV', 'CPK-MB INDEX', 'troponin - T', 'Clostridium difficile toxin A+B', 'PEEP', 'Temperature', 'Vent Rate', 'TV', 'prolactin', 'Pressure Support', 'Peak Airway/Pressure', 'Tobramycin - trough', 'ANF/ANA', 'T4', '24 h urine protein', 'Mode', 'Device', 'transferrin', 'CRP-hs', \"WBC's in body fluid\", 'T3', 'Oxyhemoglobin', 'Gentamicin - trough', 'T3RU', 'Spontaneous Rate', 'O2 Content', 'serum ketones', 'cd 4', 'Vancomycin - peak', 'Carbamazepine', 'Amikacin - trough', 'Amikacin - peak', 'Vent Other', 'Pressure Control', 'Gentamicin - random', \"WBC's in peritoneal fluid\", '24 h urine urea nitrogen', 'Cyclosporin', 'Tobramycin - peak', 'Phenobarbital']\n"
     ]
    }
   ],
   "source": [
    "list_values = [1,3,4,6]\n",
    "parser = eicu_parser()\n",
    "cols_lab = parser.labs()\n",
    "print(cols_lab)\n",
    "cols_in_json = parser.show_vars(list_values)"
   ]
  },
  {
   "cell_type": "code",
   "execution_count": 22,
   "metadata": {},
   "outputs": [
    {
     "data": {
      "text/plain": [
       "'{\"vitals\": [\"temperature\", \"sao2\", \"heartrate\", \"respiration\", \"cvp\", \"etco2\", \"systemicsystolic\", \"systemicdiastolic\", \"systemicmean\", \"pasystolic\", \"padiastolic\", \"pamean\", \"st1\", \"st2\", \"st3\", \"icp\"], \"labs\": [\"paO2\", \"Base Deficit\", \"FiO2\", \"pH\", \"HCO3\", \"paCO2\", \"platelets x 1000\", \"RBC\", \"Hgb\", \"Hct\", \"MCV\", \"bedside glucose\", \"-basos\", \"-eos\", \"-polys\", \"-lymphs\", \"WBC x 1000\", \"MCHC\", \"MCH\", \"-monos\", \"RDW\", \"O2 Sat (%)\", \"potassium\", \"ESR\", \"bicarbonate\", \"creatinine\", \"albumin\", \"LDL\", \"Total CO2\", \"alkaline phos.\", \"PT - INR\", \"HDL\", \"total bilirubin\", \"Base Excess\", \"PTT\", \"AST (SGOT)\", \"total cholesterol\", \"anion gap\", \"sodium\", \"triglycerides\", \"PT\", \"ALT (SGPT)\", \"total protein\", \"calcium\", \"BUN\", \"chloride\", \"glucose\", \"troponin - I\", \"magnesium\", \"CRP\", \"lactate\", \"Respiratory Rate\", \"Vancomycin - trough\", \"phosphate\", \"urinary specific gravity\", \"-bands\", \"Ferritin\", \"CPK\", \"WBC\\'s in cerebrospinal fluid\", \"BNP\", \"Vancomycin - random\", \"glucose - CSF\", \"TIBC\", \"Fe\", \"Fe/TIBC Ratio\", \"TSH\", \"protein - CSF\", \"Vitamin B12\", \"ammonia\", \"ionized calcium\", \"ethanol\", \"direct bilirubin\", \"cortisol\", \"WBC\\'s in urine\", \"Lithium\", \"salicylate\", \"Acetaminophen\", \"fibrinogen\", \"Methemoglobin\", \"Carboxyhemoglobin\", \"free T4\", \"LPM O2\", \"lipase\", \"amylase\", \"urinary creatinine\", \"Digoxin\", \"LDH\", \"prealbumin\", \"CPK-MB\", \"folate\", \"uric acid\", \"urinary sodium\", \"WBC\\'s in synovial fluid\", \"Tacrolimus-FK506\", \"reticulocyte count\", \"haptoglobin\", \"Phenytoin\", \"serum osmolality\", \"urinary osmolality\", \"Lidocaine\", \"Tobramycin - random\", \"myoglobin\", \"protein C\", \"Theophylline\", \"MPV\", \"CPK-MB INDEX\", \"troponin - T\", \"Clostridium difficile toxin A+B\", \"PEEP\", \"Temperature\", \"Vent Rate\", \"TV\", \"prolactin\", \"Pressure Support\", \"Peak Airway/Pressure\", \"Tobramycin - trough\", \"ANF/ANA\", \"T4\", \"24 h urine protein\", \"Mode\", \"Device\", \"transferrin\", \"CRP-hs\", \"WBC\\'s in body fluid\", \"T3\", \"Oxyhemoglobin\", \"Gentamicin - trough\", \"T3RU\", \"Spontaneous Rate\", \"O2 Content\", \"serum ketones\", \"cd 4\", \"Vancomycin - peak\", \"Carbamazepine\", \"Amikacin - trough\", \"Amikacin - peak\", \"Vent Other\", \"Pressure Control\", \"Gentamicin - random\", \"WBC\\'s in peritoneal fluid\", \"24 h urine urea nitrogen\", \"Cyclosporin\", \"Tobramycin - peak\", \"Phenobarbital\"], \"nurseeve\": [\"Non-Invasive BP\", \"Pain Score/Goal\", \"Arterial Line MAP (mmHg)\", \"Mental Status Assessment\", \"Heart Rate\", \"O2 Saturation\", \"Invasive BP\", \"Motor Response\", \"Musculoskeletal Assessment\", \"Pulse Ox  Mode\", \"Level of Assistance\", \"Respiratory Rate\", \"Eye Opening\", \"Patient s Comfort/Function (Pain) GOAL At Rest\", \"Neurological Assessment\", \"Temperature\", \"CV/ PV Assessment\", \"Respiratory Assessment\", \"Eye, Ear, Nose, Throat Assessment\", \"Bedside Glucose\", \"Glasgow coma score\", \"Verbal Response\", \"Genitourinary Assessment\", \"Pain Assessment\", \"Integumentary Assessment\", \"Gastrointestinal Assessment\", \"Symptoms of Delirium Present\", \"MAP (mmHg)\", \"CVP (mmHg)\", \"CI\", \"O2 L/%\", \"O2 Admin Device\", \"PVR\", \"End Tidal CO2\", \"Delirium Scale/Score\", \"Sedation Scale/Score/Goal\", \"CVP\", \"SV\", \"CO\", \"SVO2\", \"P.O.\", \"ECG (secs)\", \"SVR\", \"PA\", \"ICP\", \"Electrolyte Replacement\", \"CPP\", \"SVRI\", \"PVRI\", \"PAOP\", \"Best Verbal Response\", \"Best Motor Response\"], \"med\": [\"CLOPIDOGREL BISULFATE 75 MG PO TABS\", \"1 ML  -  HYDRALAZINE HCL 20 MG/ML IJ SOLN\", NaN, \"2 ML  -  METOCLOPRAMIDE HCL 5 MG/ML IJ SOLN\", \"ASPIRIN EC 81 MG PO TBEC\", \"MORPHINE INJ\", \"MAGNESIUM SULFATE 2 G IN NS PREMIX\", \"BISACODYL 10 MG RE SUPP\", \"2 ML VIAL : ONDANSETRON HCL 4 MG/2ML IJ SOLN\", \"VITAMINS/MINERALS PO TABS\", \"100 ML  -  MAGNESIUM SULFATE IN D5W 10-5 MG/ML-% IV SOLN\", \"SENNOSIDES-DOCUSATE SODIUM 8.6-50 MG PO TABS\", \"ASPIRIN 325 MG PO TABS\", \"METOPROLOL TARTRATE 25 MG PO TABS\", \"LEVOTHYROXINE SODIUM 25 MCG PO TABS\", \"ACETAMINOPHEN 500 MG PO TABS\", \"3 ML  -  IPRATROPIUM-ALBUTEROL 0.5-2.5 (3) MG/3ML IN SOLN\", \"ENOXAPARIN SODIUM 40 MG/0.4ML SC SOLN\", \"CEFEPIME HCL 2 G IJ SOLR\", \"HYDROCORTISONE NA SUCCINATE PF 100 MG IJ SOLR\", \"VANCOMYCIN 1.25 GM IN NS 250 ML IVPB (REPACKAGE)\", \"3 ML VIAL : INSULIN REGULAR HUMAN 100 UNIT/ML IJ SOLN\", \"1 ML  -  LORAZEPAM 2 MG/ML IJ SOLN\", \"WARFARIN - PHYSICIAN MONITORED\", \"PANTOPRAZOLE SODIUM 40 MG IV SOLR\", \"3 ML VIAL : INSULIN LISPRO (HUMAN) 100 UNIT/ML SC SOLN\", \"1 ML  -  HYDROMORPHONE HCL 1 MG/ML IJ SOLN\", \"PANTOPRAZOLE SODIUM 40 MG PO TBEC\", \"METOPROLOL SUCCINATE ER 25 MG PO TB24\", \"8 G  -  ALBUTEROL SULFATE HFA 108 (90 BASE) MCG/ACT IN AERS\", \"MUPIROCIN 2 % OINT 1 G SYRINGE\", \"ALBUTEROL SULFATE (5 MG/ML) 0.5% IN NEBU\", \"GUAIFENESIN ER 600 MG PO TB12\", \"4 ML  -  LABETALOL HCL 5 MG/ML IV SOLN\", \"METHYLPREDNISOLONE SODIUM SUCC 125 MG IJ SOLR\", \"4 ML  -  FUROSEMIDE 10 MG/ML IJ SOLN\", \"METOPROLOL TARTRATE 50 MG PO TABS\", \"WARFARIN SODIUM 3 MG PO TABS\", \"37.5 G TUBE : GLUCOSE 40 % PO GEL\", \"5 ML  -  METOPROLOL TARTRATE 1 MG/ML IV SOLN\", \"KETOROLAC INJ\", \"METOPROLOL SUCCINATE ER 50 MG PO TB24\", \"K PHOS MONO-SOD PHOS DI & MONO 155-852-130 MG PO TABS\", \"50 ML  -  POTASSIUM CHLORIDE 20 MEQ/50ML IV SOLN\", \"ALPRAZOLAM 0.25 MG PO TABS\", \"3.5 G  -  REFRESH P.M. OP OINT\", \"50 ML FLEX CONT : MAGNESIUM SULFATE 4% IJ SOLN\", \"WARFARIN SODIUM 1 MG PO TABS\", \"LEVOFLOXACIN IN D5W 500 MG/100ML IV SOLN\", \"LIDOCAINE 5 % EX PTCH\", \"DILTIAZEM HCL 30 MG PO TABS\", \"METHYLPREDNISOLONE SODIUM SUCC 40 MG IJ SOLR\", \"WARFARIN SODIUM 5 MG PO TABS\", \"LISINOPRIL 5 MG PO TABS\", \"OXYCODONE-ACETAMINOPHEN 5-325 MG PO TABS\", \"1 EACH PACKAGE CUSTOM NDC : METOPROLOL TARTRATE 12.5 MG PO TABS (HALF-TAB)\", \"5 ML VIAL : DILTIAZEM HCL 25 MG/5ML IV SOLN\", \"TACROLIMUS 1 MG PO CAPS\", \"ASPIRIN EC 325 MG PO TBEC\", \"5 ML  -  LEVETIRACETAM 500 MG/5ML IV SOLN\", \"SPIRONOLACTONE 25 MG PO TABS\", \"LEVETIRACETAM 500 MG PO TABS\", \"LORAZEPAM 0.5 MG PO TABS\", \"CLONIDINE HCL 0.1 MG PO TABS\", \"POTASSIUM CHLORIDE CRYS ER 20 MEQ PO TBCR\", \"1 ML  -  DIPHENHYDRAMINE HCL 50 MG/ML IJ SOLN\", \"GABAPENTIN 100 MG PO CAPS\", \"ATORVASTATIN CALCIUM 40 MG PO TABS\", \"DIPHENHYDRAMINE HCL 25 MG PO CAPS\", \"100 ML  -  METRONIDAZOLE IN NACL 5-0.79 MG/ML-% IV SOLN\", \"1 ML  -  HEPARIN SODIUM (PORCINE) 5000 UNIT/ML IJ SOLN\", \"30 ML CUP : ALUM & MAG HYDROXIDE-SIMETH 200-200-20 MG/5ML PO SUSP\", \"CARVEDILOL 12.5 MG PO TABS\", \"PREDNISONE 10 MG PO TABS\", \"LEVOTHYROXINE SODIUM 50 MCG PO TABS\", \"HYDROCODONE-ACETAMINOPHEN 10-325 MG PO TABS\", \"PRAVASTATIN SODIUM 40 MG PO TABS\", \"ATORVASTATIN CALCIUM 80 MG PO TABS\", \"SERTRALINE HCL 50 MG PO TABS\", \"DEXAMETHASONE 4 MG PO TABS\", \"ALLOPURINOL 100 MG PO TABS\", \"FUROSEMIDE 80 MG PO TABS\", \"LEVOTHYROXINE SODIUM 75 MCG PO TABS\", \"FUROSEMIDE\", \"METHYLPREDNISOLONE SOD SUCC\", \"SODIUM CHLORIDE 0.9% 500 ML BAG\", \"POTASSIUM CHLORIDE TAB CR\", \"ENOXAPARIN INJ\", \"WARFARIN SOD\", \"ALBUTEROL NEB 2.5 MG/3 ML\", \"METOPROLOL\", \"HYDROCHLOROTHIAZIDE\", \"SODIUM CHLORIDE 0.9% 1,000 ML BAG\", \"ATORVASTATIN\", \"FAMOTIDINE\", \"ASPIRIN EC\", \"MAGNESIUM OXIDE\", \"CLOPIDOGREL\", \"ACETAMINOPHEN\", \"VANCOMYCIN HCL\", \"INSULIN ASPART\", \"FERROUS SULFATE\", \"LEVOTHYROXINE SODIUM\", \"ASPIRIN\", \"METOPROLOL SUCCINATE\", \"METOPROLOL TARTRATE\", \"ZOSYN\", \"METOPROLOL INJ\", \"LORAZEPAM INJ\", \"hydrALAZINE INJ\", \"FUROSEMIDE INJ\", \"LACTATED RINGER\\'S 1,000 ML BAG.\", \"PROPOFOL IV EMULSION 1,000 MG/100 ML VIAL\", \"SIMVASTATIN\", \"PROMETHAZINE HCL\", \"ONDANSETRON HCL\", \"HALDOL\", \"OXYCODONE IR\", \"INSULIN GLARGINE\", \"ZOLPIDEM TARTRATE\", \"hydrALAZINE\", \"INSULIN DETEMIR\", \"MAGNESIUM HYDROXIDE\", \"INSULIN HUMAN REGULAR\", \"HALOPERIDOL LACTATE INJ\", \"MULTIVITAMIN\", \"HYDROCORTISONE SOD SUCCINATE\", \"HALOPERIDOL\", \"LASIX\", \"MIRALAX\", \"PANTOPRAZOLE SODIUM\", \"MAGNESIUM SULFATE\", \"THIAMINE HCL\", \"FOLIC ACID\", \"ZOFRAN\", \"PHYTONADIONE\", \"LABETALOL HCL\", \"HALOPERIDOL LACTATE\", \"AMIODARONE\", \"AMLODIPINE BESYLATE\", \"BISACODYL\", \"CLOPIDOGREL BISULFATE\", \"GLUTOSE 15\", \"INSULIN REGULAR, HUMAN\", \"ALLOPURINOL\", \"POTASSIUM PHOSPHATE\", \"LACTATED RINGERS\", \"PHENERGAN\", \"GLUCOSE\", \"GLUCAGON INJ\", \"BACITRACIN\", \"ZOCOR\", \"FENTANYL CITRATE\", \"TACROLIMUS\", \"METOCLOPRAMIDE HCL\", \"HYDRALAZINE HCL\", \"LEVAQUIN\", \"SYNTHROID\", \"EPHEDRINE SULFATE\", \"KETOROLAC TROMETHAMINE\", \"RESTORIL\", \"ONDANSETRON HCL (PF) 4 MG/2 ML INJECTION 2 ML VIAL\", \"NITROGLYCERIN 0.4 MG SUBLINGUAL TABLET\", \"IPRATROPIUM-ALBUTEROL 0.5 MG-3 MG(2.5 MG BASE)/3 ML NEB SOLUTION 3 ML VIAL\", \"SODIUM CHLORIDE 0.9 % IV 250 ML BAG\", \"ENOXAPARIN 40 MG/0.4 ML SUB-Q SYRINGE .4 ML SYRINGE\", \"ALBUTEROL SULFATE 2.5 MG/3 ML (0.083 %) NEB SOLUTION 3 ML BLIST PACK\", \"MAGNESIUM SULFATE 2 GRAM/50 ML IV PIGGY BACK 50 ML FLEX CONT\", \"LIDOCAINE 10 MG/ML (1 %) INJECTION 20 ML VIAL\", \"FAMOTIDINE 20 MG TABLET\", \"SODIUM CHLORIDE 0.9 % SYRINGE 10 ML SYRINGE\", \"MVI, ADULT NO.4 WITH VIT K 3300 UNIT-150 MCG/10 ML IV 10 ML VIAL\", \"ASPIRIN 325 MG TABLET\", \"LABETALOL 5 MG/ML IV 20 ML VIAL\", \"PREDNISONE 20 MG TABLET\", \"METOPROLOL TARTRATE 25 MG TABLET\", \"sodium phosphate 3 mmol/mL 15 mL Inj\", \"magnesium sulfate\", \"HYDROmorphone\", \"ASPART insulin\", \"Ativan\", \"MagOx 400\", \"potassium chloride\", \"morPHINe\", \"REGULAR insulin\", \"NaCl 0.9%\", \"NovoLOG\", \"predniSONE\", \"famotidine\", \"EPINEPHrine\", \"midazolam\", \"heparin\", \"diltiazem\", \"NaCl 0.9% ADV\", \"traMADol\", \"ondansetron\", \"albuterol-ipratropium 3-0.5mg\", \"Dulcolax Laxative\", \"gabapentin\", \"pantoprazole\", \"Plavix\", \"Flagyl\", \"Haldol\", \"Milk of Magnesia\", \"ePHEDrine\", \"cisatracurium\", \"glycopyrrolate\", \"propofol\", \"neostigmine\", \"phenylephrine\", \"Glucose Gel\", \"morphine\", \"Lasix\", \"amLODIPine\", \"sodium bicarbonate\", \"Tylenol\", \"furosemide\", \"Coumadin\", \"cefTRIAXone\", \"succinylcholine\", \"amiodarone\", \"azithromycin\", \"Levaquin\", \"Benadryl\", \"Bumex\", \"Dilaudid\", \"meropenem\", \"LORazepam\", \"Colace\", \"Coreg\", \"clopidogrel\", \"digoxin\", \"calcium gluconate\", \"Lipitor\", \"levetiracetam\", \"Versed\", \"Lactated Ringers Injection 1,000 mL\", \"senna\", \"ALPRAZolam\", \"clindamycin\", \"lactulose\", \"docusate\", \"DOPamine\", \"albumin human\", \"levETIRAcetam\", \"hePARIN subcutaneous\", \"Maalox\", \"PANTOPRAZOLE\", \"insulin aspart Corrective dosing\", \"albuterol neb\", \"DILTIAZEM\", \"potassium chloride ivpb in SW\", \"metoPROLOL\", \"clonazePAM\", \"insulin glargine\", \"LEVETIRACETAM\", \"HYDRALAZINE\", \"LACTULOSE\", \"MIDAZOLAM\", \"PEPCID\", \"Ambien\", \"AZITHROMYCIN\", \"SODIUM BICARBONATE 8.4%\", \"omeprazole\", \"PHENYLEPHRINE\", \"NS 1,000 mL\", \"acetaminophen (TYLENOL) tab 650 mg\", \"warfarin sodium (COUMADIN) tab 5 mg\", \"dextrose 50 % inj\", \"docusate sodium (COLACE) oral liquid 100 mg\", \"ceFAZolin (ANCEF) in Dextrose ivpb 2 g\", \"docusate sodium (COLACE) cap 100 mg\", \"HYDROmorphone (DILAUDID) 1 MG/ML inj 0.5 mg\", \"metoprolol (LOPRESSOR) tab 25 mg\", \"hEParin inj 5,000 Units\", \"albuterol-ipratropium (DUONEB) inhalation solution 3 mL\", \"albuterol sulfate (PROVENTIL) (2.5 MG/3ML) 0.083% inhalation solution 2.5 mg\", \"furosemide (LASIX) inj 40 mg\", \"cefTRIAXone in D5W (ROCEPHIN) ivpb 1 g\", \"potassium CHLORide liquid 20 mEq\", \"midazolam (VERSED) 2 MG/2ML inj 1 mg\", \"furosemide (LASIX) tab 40 mg\", \"alteplase (CATHFLO ACTIVASE) inj 2 mg\", \"potassium chloride 10 mEq in 100 mL ivpb **LOCKED DOSE\", \"magnesium sulfate 1 g in d5w 100mL **LOCKED DOSE\", \"oxyCODONE (OXY IR) cap-tab 5 mg\", \"midazolam (VERSED) 2 MG/2ML inj 2 mg\", \"oxyCODONE (OXY IR) cap-tab 10 mg\", \"bisacodyl (DULCOLAX) supp 10 mg\", \"1 ML  -  NALOXONE HCL 0.4 MG/ML IJ SOLN\", \"NITROGLYCERIN 0.4 MG SL SUBL\", \"100 ML  -  POTASSIUM CHLORIDE 20 MEQ/100ML IV SOLN\", \"10 ML  -  ATROPINE SULFATE 0.1 MG/ML IJ SOLN\", \".5 ML VIAL : PNEUMOCOCCAL VAC POLYVALENT 25 MCG/0.5ML IJ INJ\", \"NOREPINEPHRINE 4 MG/250 ML NS INFUSION (STD CON\\'C) (REPACKAGE)\", \"50 ML SYRINGE : DEXTROSE 50 % IV SOLN\", \"GLUCAGON HCL (RDNA) 1 MG IJ SOLR\", \"WARFARIN SODIUM 7.5 MG PO TABS\", \"1000 ML  -  DEXTROSE 5 % IV SOLN\", \"SIMVASTATIN 20 MG PO TABS\", \"100 ML BAG CUSTOM NDC : INSULIN INFUSION\", \"AMIODARONE 450 MG/250 ML D5W INFUSION (STD CON\\'C) (REPACKAGE)\", \"1000 ML  -  LACTATED RINGERS IV SOLN\", \"10 ML  -  MAGNESIUM SULFATE 50 % IJ SOLN\", \"CEFAZOLIN 2 GM IN NS 100 ML IVPB (REPACKAGE)\", \"20 ML  -  POTASSIUM CHLORIDE 2 MEQ/ML IV SOLN\", \"10 ML VIAL : CALCIUM CHLORIDE 10 % IV SOLN\", \"2 ML  -  NITROPRUSSIDE SODIUM 25 MG/ML IV SOLN\", \"0.5 ML - INFLUENZA VAC SPLIT QUAD 0.5 ML IM SUSP\", \"5 G  -  LIDOCAINE-PRILOCAINE 2.5-2.5 % EX CREA\", \"50 ML VIAL : DEXTROSE 50 % IV SOLN\", \"5 ML VIAL : SODIUM PHOSPHATE 3 MMOLE/ML IV SOLN\", \"1000 ML  -  KCL IN DEXTROSE-NACL 20-5-0.45 MEQ/L-%-% IV SOLN\", \"LEVOFLOXACIN 750 MG PO TABS\", \"500 ML  -  HEPARIN (PORCINE) IN D5W 50-5 UNIT/ML-% IV SOLN\", \"10 ML  -  NICARDIPINE HCL 2.5 MG/ML IV SOLN\", \"METFORMIN HCL 500 MG PO TABS\", \"PREDNISONE 5 MG PO TABS\", \"FERROUS SULFATE 325 (65 FE) MG PO TABS\", \"MEPERIDINE RANGE INJ\", \"CARVEDILOL 3.125 MG PO TABS\", \"CARVEDILOL 25 MG PO TABS\", \"SODIUM CHLORIDE 0.9%\", \"ALBUMIN HUMAN 25%\", \"IBUPROFEN\", \"SUBLIMAZE\", \"DILAUDID\", \"HYDROCODONE 5 MG-ACETAMINOPHEN 325 MG TABLET\", \"ONDANSETRON HCL 4 MG TABLET\", \"SODIUM CHLORIDE 0.9 % IV 1000 ML BAG\", \"POLYETHYLENE GLYCOL 3350 17 GRAM ORAL POWDER PACKET\", \"PANTOPRAZOLE 40 MG INTRAVENOUS SOLUTION\", \"WARFARIN 5 MG TABLET\", \"ACETAMINOPHEN 325 MG RECTAL SUPPOSITORY\", \"LR 1,000 mL\", \"COREG\", \"PRMX NOREPInephrine 4 mg/250 mL NS Drip\", \"WARFARIN\", \"METOCLOPRAMIDE\", \"CALCIUM GLUCONATE 10%\", \"AMLODIPINE\", \"KETOROLAC\", \"NSS infusion\", \"NOREPINEPHRINE BITARTRATE 1 MG/ML IJ SOLN\", \"acetaminophen (TYLENOL) tab 975 mg\", \"CALCIUM GLUCONATE 10 % IV SOLN 10ML\", \"INSULIN REGULAR HUMAN 100 UNIT/ML IJ SOLN\", \"NSS 0.9% 1,000 mL bolus infusion\", \"NSS 0.9% 500 mL bolus infusion\", \"sodium chloride 0.9 % flush peripheral lok 3 mL\", \"potassium chloride ER tab 20 mEq\", \"propofol 1% inj\", \"plasma-LYte 148 infusion\", \"enoxaparin (LOVENOX) inj 40 mg\", \"fentaNYL 2000 mcg in D5W 100 mL INFUSION Final Conc = 20 mcg/mL\", \"potassium chloride ER tab 40 mEq\", \"MAGNESIUM SULFATE 50 % IJ SOLN 2ML\", \"CALCIUM GLUCONATE 10 % IV SOLN\", \"TIOTROPIUM BROMIDE MONOHYDRATE 18 MCG IN CAPS\", \"ASPIRIN 81 MG PO CHEW\", \"OXYCODONE HCL 5 MG PO TABS\", \"10 ML CUP : MAGNESIUM HYDROXIDE 2400 MG/10ML PO SUSP\", \"2 ML  -  PROCHLORPERAZINE EDISYLATE 5 MG/ML IJ SOLN\", \"HYDROCHLOROTHIAZIDE 25 MG PO TABS\", \"FAMOTIDINE 20 MG PO TABS\", \"TICAGRELOR 90 MG PO TABS\", \"VITAMIN D 1000 UNITS PO TABS\", \"HYDROCODONE-ACETAMINOPHEN 5-325 MG PO TABS\", \"473 ML  -  CHLORHEXIDINE GLUCONATE 0.12 % MT SOLN\", \"LEVOTHYROXINE SODIUM 100 MCG PO TABS\", \"FUROSEMIDE 40 MG PO TABS\", \"ENOXAPARIN SODIUM 30 MG/0.3ML SC SOLN\", \"TRAMADOL HCL 50 MG PO TABS\", \"AZITHROMYCIN 500 MG IV SOLR\", \"3 ML  -  ALBUTEROL SULFATE (2.5 MG/3ML) 0.083% IN NEBU\", \"FOLIC ACID 1 MG PO TABS\", \"2 ML  -  FAMOTIDINE 10 MG/ML IV SOLN\", \"FOLIC ACID 5 MG/ML IJ SOLN\", \"THIAMINE HCL 100 MG PO TABS\", \"ASPIRIN 300 MG RE SUPP\", \"DIAZEPAM 5 MG PO TABS\", \"1 EACH VIAL : CEFTRIAXONE SODIUM 1 G IJ SOLR\", \"TAMSULOSIN HCL 0.4 MG PO CAPS\", \"LORATADINE 10 MG PO TABS\", \"FLUTICASONE-SALMETEROL 250-50 MCG/DOSE IN AEPB\", \"AMIODARONE HCL 200 MG PO TABS\", \"POLYETHYLENE GLYCOL 3350 PO PACK\", \"50 ML  -  ALBUMIN HUMAN 25 % IV SOLN\", \"LISINOPRIL 20 MG PO TABS\", \"FUROSEMIDE 20 MG PO TABS\", \"LORAZEPAM 1 MG PO TABS\", \"LISINOPRIL 10 MG PO TABS\", \"1 ML VIAL : DEXAMETHASONE SODIUM PHOSPHATE 4 MG/ML IJ SOLN\", \"AMLODIPINE BESYLATE 5 MG PO TABS\", \"AMLODIPINE BESYLATE 10 MG PO TABS\", \"1 ML  -  HALOPERIDOL LACTATE 5 MG/ML IJ SOLN\", \"5 ML SYRINGE : HEPARIN SODIUM LOCK FLUSH 10 UNIT/ML IV SOLN\", \"20 ML  -  LIDOCAINE HCL 1 % IJ SOLN\", \"VANCOMYCIN HCL 10 G IV SOLR\", \"WARFARIN SODIUM 2 MG PO TABS\", \"CEFTRIAXONE SODIUM 1 G IJ SOLR\", \"VANCOMYCIN HCL 1000 MG IV SOLR\", \"30 ML  -  LACTULOSE 10 GM/15ML PO SOLN\", \"CIPROFLOXACIN IN D5W 400 MG/200ML IV SOLN\", \"ISOSORBIDE MONONITRATE ER 30 MG PO TB24\", \"1 EACH VIAL : CEFEPIME HCL 1 GM IJ SOLR\", \"DIGOXIN 125 MCG PO TABS\", \"MIDODRINE HCL 5 MG PO TABS\", \"MEROPENEM 1 G IV SOLR\", \"GABAPENTIN 300 MG PO CAPS\", \"1000 ML  -  SODIUM CHLORIDE 0.9 % IV SOLN\", \"ACETAMINOPHEN 325 MG PO TABS\", \"2 ML  -  FENTANYL CITRATE 0.05 MG/ML IJ SOLN\", \"ONDANSETRON 4 MG PO TBDP\", \"10 ML  -  INSULIN GLARGINE 100 UNIT/ML SC SOLN\", \"WARFARIN SODIUM 2.5 MG PO TABS\", \"2 ML  -  FUROSEMIDE 10 MG/ML IJ SOLN\", \"LOSARTAN POTASSIUM 50 MG PO TABS\", \"NICOTINE 21 MG/24HR TD PT24\", \"ATORVASTATIN CALCIUM 10 MG PO TABS\", \"VANCOMYCIN 1.5 GM IN NS 250 ML IVPB (REPACKAGE)\", \"MEROPENEM 500 MG IV SOLR\", \"20 ML  -  LABETALOL HCL 5 MG/ML IV SOLN\", \"LEVOFLOXACIN IN D5W 750 MG/150ML IV SOLN\", \"PROCHLORPERAZINE MALEATE 10 MG PO TABS\", \"LEVOFLOXACIN 500 MG PO TABS\", \"SIMVASTATIN 40 MG PO TABS\", \"CARVEDILOL 6.25 MG PO TABS\", \"PREDNISONE 20 MG PO TABS\", \"2 ML VIAL : MIDAZOLAM HCL 2 MG/2ML IJ SOLN\", \"HYDRALAZINE HCL 25 MG PO TABS\", \"PIPERACILLIN SOD-TAZOBACTAM SO 3-0.375 G IV SOLR\", \"PREDNISONE 50 MG PO TABS\", \"LISINOPRIL 2.5 MG PO TABS\", \"PROCHLORPERAZINE MALEATE 5 MG PO TABS\", \"BISACODYL 5 MG PO TBEC\", \"CLONAZEPAM 0.5 MG PO TABS\", \"CALCIUM CARBONATE ANTACID 500 MG PO CHEW\", \"WARFARIN SODIUM 4 MG PO TABS\", \"QUETIAPINE FUMARATE 25 MG PO TABS\", \"LORAZEPAM 2 MG/ML IJ SOLN\", \"LORAZEPAM\", \"VANCOMYCIN INJ 1,000 MG VIAL.\", \"NITROGLYCERIN SL\", \"ALBUTEROL/IPRATROPIUM NEB 3ML\", \"PREDNISONE\", \"fentaNYL CITRATE INJ\", \"HYDROMORPHONE INJ\", \"LISINOPRIL\", \"DIPHENHYDRAMINE HCL\", \"MIDAZOLAM INJ\", \"NITROGLYCERIN\", \"SODIUM CHLORIDE\", \"LEVOFLOXACIN\", \"MORPHINE SULFATE\", \"VANCOMYCIN\", \"DILTIAZEM HCL\", \"GABAPENTIN\", \"ONDANSETRON INJ\", \"DUONEB\", \"POTASSIUM CHLORIDE\", \"DEXTROSE 50% INJ\", \"CARVEDILOL\", \"PROPOFOL IV EMULSION\", \"ALBUMIN HUMAN 5%\", \"BISACODYL SUPP\", \"DIAZEPAM\", \"CITALOPRAM\", \"ATENOLOL\", \"CALCIUM CARBONATE\", \"TRAMADOL HCL\", \"DIGOXIN\", \"POLYETHYLENE GLYCOL\", \"metroNIDAZOLE\", \"DEXAMETHASONE\", \"CLONAZEPAM\", \"SODIUM POLYSTYRENE SULFONATE\", \"BUMETANIDE\", \"CARDIZEM\", \"SPIRONOLACTONE\", \"ONDANSETRON\", \"AMIODARONE HCL\", \"MILK OF MAGNESIA\", \"PHENYLEPHRINE HCL\", \"ESOMEPRAZOLE INJ\", \"ALPRAZOLAM\", \"NALOXONE HCL\", \"LANTUS\", \"NOVOLOG\", \"BENADRYL\", \"HYDROMORPHONE HCL\", \"COMPAZINE\", \"NORCO\", \"FENTANYL\", \"DOCUSATE SODIUM\", \"LIPITOR\", \"DULCOLAX\", \"ATIVAN\", \"NITROSTAT\", \"LOVENOX\", \"FLOMAX\", \"COZAAR\", \"KLOR-CON\", \"NYSTATIN\", \"COLACE\", \"METHYLPREDNISOLONE\", \"PROPOFOL\", \"MEPERIDINE HCL\", \"GLYCOPYRROLATE\", \"FLAGYL\", \"MIDAZOLAM HCL\", \"ATORVASTATIN 40 MG TABLET\", \"POTASSIUM CHLORIDE 20 MEQ/50 ML IV PIGGY BACK 50 ML BAG\", \"POTASSIUM CHLORIDE ER 20 MEQ TABLET,EXTENDED RELEASE(PART/CRYST)\", \"PANTOPRAZOLE 40 MG TABLET,DELAYED RELEASE\", \"FOLIC ACID 5 MG/ML INJECTION 10 ML VIAL\", \"AMLODIPINE 5 MG TABLET\", \"AMIODARONE 200 MG TABLET\", \"INSULIN DETEMIR 100 UNIT/ML SUB-Q 10 ML VIAL\", \"DOCUSATE SODIUM 100 MG CAPSULE\", \"vancomycin\", \"Dextrose 50%\", \"potassium phosphate 3 mmol/mL15 mL Inj\", \"NaCl 0.9% Bolus\", \"GlucaGen\", \"levothyroxine\", \"Zofran\", \"K-Dur 20\", \"Pepcid\", \"lisinopril\", \"Lopressor\", \"Protonix\", \"atorvastatin\", \"diphenhydrAMINE\", \"fentaNYL\", \"methylPREDNISolone\", \"NaCl 0.9% MBP\", \"aspirin\", \"nitroglycerin\", \"metoprolol tartrate\", \"Lovenox\", \"DuoNeb\", \"albuterol\", \"labetalol\", \"cefepime\", \"folic acid\", \"ceFAZolin\", \"lidocaine\", \"calcium chloride\", \"rocuronium\", \"dexamethasone\", \"atropine\", \"warfarin\", \"acetaminophen\", \"piperacillin-tazobactam\", \"SoluMedrol\", \"dexmedetomidine\", \"cloNIDine\", \"Sodium Chloride 0.9%\", \"Nitrostat\", \"magnesium sulfate in D5W\", \"Xanax\", \"enoxaparin\", \"oxyCODONE\", \"Reglan\", \"metoprolol\", \"nafcillin\", \"metoclopramide\", \"ceFAZolin 1 g powder for Inj\", \"Sodium Chloride 0.9% 1,000 mL\", \"bisacodyl\", \"Levemir\", \"nitroGLYCERIN\", \"carvedilol\", \"Decadron\", \"ipratropium\", \"Norco 5 mg-325 mg\", \"glucagon\", \"zolpidem\", \"dextrose\", \"LOPRESSOR\", \"TRANDATE\", \"HYDROMORPHONE\", \"MORPHINE\", \"magnesium sulfate ivpb.\", \"acetaminophen-oxyCODONE 325 mg-5 mg oral tablet\", \"traZODone\", \"sodium chloride\", \"PROTONIX\", \"PLAVIX\", \"albuterol inhale\", \"CEFEPIME\", \"LABETALOL\", \"NOREPINEPHRINE\", \"HEPARIN\", \"QUEtiapine\", \"OXYCODONE\", \"senna (SENOKOT) 1 Tab\", \"chlorHEXIDINE (PERIOGARD) 0.12 % oral rinse 15 mL\", \"ondansetron (ZOFRAN) inj 4 mg\", \"vancomycin in D5W (VANCOCIN) ivpb 1 g\", \"famotidine (PEPCID) (2 mg/mL) inj dilution 20 mg\", \"famotidine (PEPCID) tab 20 mg\", \"metoprolol (LOPRESSOR) tab 12.5 mg\", \"potassium chloride 20 mEq in 50 mL ivpb **LOCKED DOSE\", \"metoprolol tartrate (LOPRESSOR) inj 5 mg\", \"fentaNYL inj 50 mcg\", \"morphine sulfate (pf) inj 2 mg\", \"cefepime in D5W (MAXIPIME) ivpb 1 g\", \"LEVETIRACETAM 500 MG/5ML IV SOLN\", \"fentaNYL inj 25 mcg\", \"nitroglycerin (NITROSTAT) sl tab 0.4 mg\", \"potassium CHLORide liquid 40 mEq\", \"furosemide (LASIX) inj 20 mg\", \"AMIODARONE HCL 900 MG/18ML IV SOLN\", \"insulin aspart (NovoLOG) inj\", \"sennosides (SENOKOT) oral syrup 10 mL\", \"polyethylene glycol 3350 (MIRALAX) oral powder 17 g\", \"omeprazole (PriLOSEC) cap 20 mg\", \"POTASSIUM CHLORIDE 20 MEQ PO PACK\", \"250 ML  -  SODIUM CHLORIDE 0.9 % IV SOLN\", \"100 ML GLASS CONT : IOPAMIDOL 76 % IV SOLN\", \"10 ML  -  CALCIUM GLUCONATE 10 % IV SOLN\", \"500 ML  -  SODIUM CHLORIDE 0.9 % IV SOLN\", \"SODIUM CHLORIDE 0.9 % BOLUS\", \"100 ML NDC : DEXMEDETOMIDINE HCL IN NACL 400 MCG/100ML IV SOLN\", \"100 ML  -  PROPOFOL 10 MG/ML IV EMUL\", \"10 ML  -  POTASSIUM CHLORIDE 2 MEQ/ML IV SOLN\", \"1000 ML  -  POTASSIUM CHLORIDE IN NACL 20-0.9 MEQ/L-% IV SOLN\", \"ZOLPIDEM TARTRATE 5 MG PO TABS\", \"TRAZODONE HCL 50 MG PO TABS\", \"1000 ML  -  DEXTROSE-NACL 5-0.45 % IV SOLN\", \"FENTANYL STANDARD INFUSION 10 MCG/ML PREMIX\", \"ACETAMINOPHEN 650 MG RE SUPP\", \"DEXMEDETOMIDINE HCL IN NACL 400 MCG/100ML IV SOLN\", \"250 ML  -  ALBUMIN HUMAN 5 % IV SOLN\", \"30 ML  -  IOPAMIDOL 61 % IV SOLN\", \"1 EACH VIAL : ALTEPLASE 2 MG IJ SOLR\", \"10 ML  -  HEPARIN SODIUM (PORCINE) 1000 UNIT/ML IJ SOLN\", \"3 ML SYRINGE CUSTOM NDC : ANTICOAGULANT SODIUM CITRATE 4 % VI SOLN\", \"1000 ML FLEX CONT : DEXTROSE-NACL 5-0.9 % IV SOLN\", \"AMIODARONE HCL 150 MG/3ML IV SOLN\", \"50 ML SYRINGE : SODIUM BICARBONATE 8.4 % IV SOLN\", \"50 ML VIAL : SODIUM BICARBONATE 8.4 % IV SOLN\", \"2 ML  -  DIGOXIN 0.25 MG/ML IJ SOLN\", \"ATORVASTATIN CALCIUM 20 MG PO TABS\", \"METOCLOPRAMIDE HCL 10 MG PO TABS\", \"DEXTROSE 5 % IV SOLN\", \"HYDRALAZINE HCL 50 MG PO TABS\", \"METRONIDAZOLE 500 MG PO TABS\", \"100 ML FLEX CONT : SODIUM CHLORIDE 0.9 % IV SOLN\", \"ALPRAZOLAM 0.5 MG PO TABS\", \"ADVAIR DISKUS\", \"MULTIVITAMINS\", \"NORMAL SALINE FLUSH\", \"PRECEDEX\", \"ACETAMINOPHEN 650 MG RECTAL SUPPOSITORY\", \"ACETAMINOPHEN 325 MG TABLET\", \"ZOLPIDEM 5 MG TABLET\", \"MORPHINE INJECTION ORDERABLE\", \"<<norepinephrine 4 mg/4 mL Inj\", \"Lactated Ringers Injection\", \"0.9%NaCl 1,000 mL\", \"docusate sodium\", \"albumin 5%\", \"PRMX dexmedetomidine 400mcg/100ml NS Drip\", \"Dextrose 50% in Water\", \"Magnesium Sulfate ivpb\", \"potassium chloride ivpb\", \"amiodarone bolus\", \"flumazenil\", \"SODIUM PHOSPHATE\", \"albumin (human) (PLASBUMIN-5) 5% infusion 25 g\", \"PHENYLEPHRINE HCL 10 MG/ML IJ SOLN\", \"sodium chloride 0.9% flush 10 mL\", \"amiodarone (CORDARONE) 150 mg in d5w 100mL BOLUS\", \"NOREPINEPHRINE BITARTRATE 1 MG/ML IV SOLN\", \"aspirin chew tab 81 mg\", \"ONDANSETRON HCL 4 MG/2ML IJ SOLN\", \"LORazepam (ATIVAN) inj 1 mg\"]}'"
      ]
     },
     "execution_count": 22,
     "metadata": {},
     "output_type": "execute_result"
    }
   ],
   "source": [
    "cols_in_json"
   ]
  },
  {
   "cell_type": "code",
   "execution_count": null,
   "metadata": {},
   "outputs": [],
   "source": []
  }
 ],
 "metadata": {
  "kernelspec": {
   "display_name": "Python 3",
   "language": "python",
   "name": "python3"
  },
  "language_info": {
   "codemirror_mode": {
    "name": "ipython",
    "version": 3
   },
   "file_extension": ".py",
   "mimetype": "text/x-python",
   "name": "python",
   "nbconvert_exporter": "python",
   "pygments_lexer": "ipython3",
   "version": "3.7.7"
  }
 },
 "nbformat": 4,
 "nbformat_minor": 4
}
